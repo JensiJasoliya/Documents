{
  "nbformat": 4,
  "nbformat_minor": 0,
  "metadata": {
    "colab": {
      "provenance": [],
      "authorship_tag": "ABX9TyNRMiR1NM2haSPHGRuUzM3w",
      "include_colab_link": true
    },
    "kernelspec": {
      "name": "python3",
      "display_name": "Python 3"
    },
    "language_info": {
      "name": "python"
    }
  },
  "cells": [
    {
      "cell_type": "markdown",
      "metadata": {
        "id": "view-in-github",
        "colab_type": "text"
      },
      "source": [
        "<a href=\"https://colab.research.google.com/github/JensiJasoliya/Documents/blob/main/repl_char1.ipynb\" target=\"_parent\"><img src=\"https://colab.research.google.com/assets/colab-badge.svg\" alt=\"Open In Colab\"/></a>"
      ]
    },
    {
      "cell_type": "code",
      "execution_count": 6,
      "metadata": {
        "colab": {
          "base_uri": "https://localhost:8080/"
        },
        "id": "UBf5c3vxfr1P",
        "outputId": "cfcd1aa1-087e-48cc-de5f-42f58b1118b1"
      },
      "outputs": [
        {
          "output_type": "stream",
          "name": "stdout",
          "text": [
            "['aan', 'ban', 'dan', 'ean', 'fan', 'gan', 'han', 'ian', 'jan', 'kan', 'lan', 'man', 'nan', 'oan', 'pan', 'qan', 'ran', 'san', 'tan', 'uan', 'van', 'wan', 'xan', 'yan', 'zan', 'cbn', 'ccn', 'cdn', 'cen', 'cfn', 'cgn', 'chn', 'cin', 'cjn', 'ckn', 'cln', 'cmn', 'cnn', 'con', 'cpn', 'cqn', 'crn', 'csn', 'ctn', 'cun', 'cvn', 'cwn', 'cxn', 'cyn', 'czn', 'caa', 'cab', 'cac', 'cad', 'cae', 'caf', 'cag', 'cah', 'cai', 'caj', 'cak', 'cal', 'cam', 'cao', 'cap', 'caq', 'car', 'cas', 'cat', 'cau', 'cav', 'caw', 'cax', 'cay', 'caz']\n"
          ]
        }
      ],
      "source": [
        "import string\n",
        "\n",
        "def replace_char(word):\n",
        "    alphabet = string.ascii_lowercase  # Get all lowercase letters\n",
        "    result = []\n",
        "\n",
        "    # Iterate over each character in the word by index\n",
        "    for i in range(len(word)):\n",
        "        # Replace the character at index i with each letter in the alphabet\n",
        "        for char in alphabet:\n",
        "            # Form a new word by replacing the character at index i\n",
        "            new_word = word[:i] + char + word[i+1:]\n",
        "            # Exclude the original word from the result\n",
        "            if new_word != word:\n",
        "                result.append(new_word)\n",
        "\n",
        "    return result\n",
        "\n",
        "# Test the function with the word 'can'\n",
        "word = 'can'\n",
        "output = replace_char(word)\n",
        "print(output)"
      ]
    }
  ]
}