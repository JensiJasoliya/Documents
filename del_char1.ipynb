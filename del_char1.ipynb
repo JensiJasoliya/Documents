{
  "nbformat": 4,
  "nbformat_minor": 0,
  "metadata": {
    "colab": {
      "provenance": [],
      "authorship_tag": "ABX9TyOh7VYGSWWzrJUkYzMaXZBC",
      "include_colab_link": true
    },
    "kernelspec": {
      "name": "python3",
      "display_name": "Python 3"
    },
    "language_info": {
      "name": "python"
    }
  },
  "cells": [
    {
      "cell_type": "markdown",
      "metadata": {
        "id": "view-in-github",
        "colab_type": "text"
      },
      "source": [
        "<a href=\"https://colab.research.google.com/github/JensiJasoliya/Documents/blob/main/del_char1.ipynb\" target=\"_parent\"><img src=\"https://colab.research.google.com/assets/colab-badge.svg\" alt=\"Open In Colab\"/></a>"
      ]
    },
    {
      "cell_type": "code",
      "execution_count": 14,
      "metadata": {
        "colab": {
          "base_uri": "https://localhost:8080/"
        },
        "id": "haL7GiHRrdKe",
        "outputId": "d9d22c6f-279d-4072-9b8b-ea9959d6ad74"
      },
      "outputs": [
        {
          "output_type": "stream",
          "name": "stdout",
          "text": [
            "Input Word: pace\n",
            "Output: ['ace', 'pce', 'pae', 'pac']\n"
          ]
        }
      ],
      "source": [
        "def Del_Char(WORD):\n",
        "  return [WORD[:i] + WORD[i+1:] for i in range(len(WORD))]\n",
        "\n",
        "Name = 'pace'\n",
        "OP = Del_Char(WORD=WORD)\n",
        "print(\"Input Word:\",Name)\n",
        "print(\"Output:\",OP)"
      ]
    }
  ]
}