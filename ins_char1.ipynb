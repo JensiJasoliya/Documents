{
  "nbformat": 4,
  "nbformat_minor": 0,
  "metadata": {
    "colab": {
      "provenance": [],
      "authorship_tag": "ABX9TyN/5EXVTRTgxP1ZpM2KXtxO",
      "include_colab_link": true
    },
    "kernelspec": {
      "name": "python3",
      "display_name": "Python 3"
    },
    "language_info": {
      "name": "python"
    }
  },
  "cells": [
    {
      "cell_type": "markdown",
      "metadata": {
        "id": "view-in-github",
        "colab_type": "text"
      },
      "source": [
        "<a href=\"https://colab.research.google.com/github/JensiJasoliya/Documents/blob/main/ins_char1.ipynb\" target=\"_parent\"><img src=\"https://colab.research.google.com/assets/colab-badge.svg\" alt=\"Open In Colab\"/></a>"
      ]
    },
    {
      "cell_type": "code",
      "execution_count": 2,
      "metadata": {
        "colab": {
          "base_uri": "https://localhost:8080/"
        },
        "id": "cS1D9onysVd3",
        "outputId": "b393fefb-6b8f-4f72-9de9-ebbf1df0a703"
      },
      "outputs": [
        {
          "output_type": "stream",
          "name": "stdout",
          "text": [
            "['aat', 'bat', 'cat', 'dat', 'eat', 'fat', 'gat', 'hat', 'iat', 'jat', 'kat', 'lat', 'mat', 'nat', 'oat', 'pat', 'qat', 'rat', 'sat', 'tat', 'uat', 'vat', 'wat', 'xat', 'yat', 'zat', 'aat', 'abt', 'act', 'adt', 'aet', 'aft', 'agt', 'aht', 'ait', 'ajt', 'akt', 'alt', 'amt', 'ant', 'aot', 'apt', 'aqt', 'art', 'ast', 'att', 'aut', 'avt', 'awt', 'axt', 'ayt', 'azt', 'ata', 'atb', 'atc', 'atd', 'ate', 'atf', 'atg', 'ath', 'ati', 'atj', 'atk', 'atl', 'atm', 'atn', 'ato', 'atp', 'atq', 'atr', 'ats', 'att', 'atu', 'atv', 'atw', 'atx', 'aty', 'atz']\n"
          ]
        }
      ],
      "source": [
        "import string\n",
        "\n",
        "def insert_char(word):\n",
        "    alphabet = string.ascii_lowercase  # Get all lowercase letters\n",
        "    result = []\n",
        "\n",
        "    # Iterate over the positions where we can insert a letter\n",
        "    for i in range(len(word) + 1):  # We need to insert at len(word) + 1 positions\n",
        "        # Insert each letter from the alphabet into the position i\n",
        "        for char in alphabet:\n",
        "            # Form a new word by inserting the character at position i\n",
        "            new_word = word[:i] + char + word[i:]\n",
        "            result.append(new_word)\n",
        "\n",
        "    return result\n",
        "\n",
        "# Test the function with the word 'at'\n",
        "word = 'at'\n",
        "output = insert_char(word)\n",
        "print(output)"
      ]
    }
  ]
}