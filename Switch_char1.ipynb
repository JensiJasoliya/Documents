{
  "nbformat": 4,
  "nbformat_minor": 0,
  "metadata": {
    "colab": {
      "provenance": [],
      "authorship_tag": "ABX9TyP77lW6GgNZlKBzZ6ixZV0r",
      "include_colab_link": true
    },
    "kernelspec": {
      "name": "python3",
      "display_name": "Python 3"
    },
    "language_info": {
      "name": "python"
    }
  },
  "cells": [
    {
      "cell_type": "markdown",
      "metadata": {
        "id": "view-in-github",
        "colab_type": "text"
      },
      "source": [
        "<a href=\"https://colab.research.google.com/github/JensiJasoliya/Documents/blob/main/Switch_char1.ipynb\" target=\"_parent\"><img src=\"https://colab.research.google.com/assets/colab-badge.svg\" alt=\"Open In Colab\"/></a>"
      ]
    },
    {
      "cell_type": "code",
      "execution_count": 21,
      "metadata": {
        "colab": {
          "base_uri": "https://localhost:8080/"
        },
        "id": "Tk54OvdfziYL",
        "outputId": "6eb17f52-befa-46c5-d486-c31c88c335db"
      },
      "outputs": [
        {
          "output_type": "stream",
          "name": "stdout",
          "text": [
            "Input Word: eta\n",
            "Output: ['tea', 'eat']\n"
          ]
        }
      ],
      "source": [
        "def switch_char(word):\n",
        "  switched_words = []\n",
        "\n",
        "  for i in range(len(word) - 1):\n",
        "    new_word = word[:i] + word[i + 1] + word[i] + word[i + 2:]\n",
        "    switched_words.append(new_word)\n",
        "\n",
        "  return switched_words\n",
        "\n",
        "Product_Name = 'eta'\n",
        "OP = switch_char(Product_Name)\n",
        "print(\"Input Word:\", Product_Name)\n",
        "print(\"Output:\", OP)"
      ]
    }
  ]
}